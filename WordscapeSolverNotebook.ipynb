{
 "cells": [
  {
   "cell_type": "code",
   "execution_count": 1,
   "metadata": {},
   "outputs": [],
   "source": [
    "def word_has_only_letters(word, letters):\n",
    "    for character in word:\n",
    "        if character in letters:\n",
    "            pass\n",
    "        else:\n",
    "            return False\n",
    "    return True"
   ]
  },
  {
   "cell_type": "code",
   "execution_count": 2,
   "metadata": {},
   "outputs": [
    {
     "data": {
      "text/plain": [
       "True"
      ]
     },
     "execution_count": 2,
     "metadata": {},
     "output_type": "execute_result"
    }
   ],
   "source": [
    "word_has_only_letters('hoe',['h','o','m','e'])"
   ]
  },
  {
   "cell_type": "code",
   "execution_count": 3,
   "metadata": {},
   "outputs": [],
   "source": [
    "letters = [x for x in 'checks']"
   ]
  },
  {
   "cell_type": "code",
   "execution_count": 4,
   "metadata": {},
   "outputs": [
    {
     "ename": "NameError",
     "evalue": "name 'corpus' is not defined",
     "output_type": "error",
     "traceback": [
      "\u001b[0;31m---------------------------------------------------------------------------\u001b[0m",
      "\u001b[0;31mNameError\u001b[0m                                 Traceback (most recent call last)",
      "\u001b[0;32m<ipython-input-4-aaec6adea5e6>\u001b[0m in \u001b[0;36m<module>\u001b[0;34m\u001b[0m\n\u001b[1;32m      1\u001b[0m \u001b[0mpossible_words\u001b[0m \u001b[0;34m=\u001b[0m \u001b[0;34m[\u001b[0m\u001b[0;34m]\u001b[0m\u001b[0;34m\u001b[0m\u001b[0;34m\u001b[0m\u001b[0m\n\u001b[0;32m----> 2\u001b[0;31m \u001b[0;32mfor\u001b[0m \u001b[0mword\u001b[0m \u001b[0;32min\u001b[0m \u001b[0mcorpus\u001b[0m\u001b[0;34m:\u001b[0m\u001b[0;34m\u001b[0m\u001b[0;34m\u001b[0m\u001b[0m\n\u001b[0m\u001b[1;32m      3\u001b[0m     \u001b[0;32mif\u001b[0m \u001b[0;34m(\u001b[0m\u001b[0mlen\u001b[0m\u001b[0;34m(\u001b[0m\u001b[0mword\u001b[0m\u001b[0;34m)\u001b[0m \u001b[0;34m>\u001b[0m \u001b[0;36m3\u001b[0m\u001b[0;34m)\u001b[0m \u001b[0;32mand\u001b[0m \u001b[0;34m(\u001b[0m\u001b[0mlen\u001b[0m\u001b[0;34m(\u001b[0m\u001b[0mword\u001b[0m\u001b[0;34m)\u001b[0m \u001b[0;34m<=\u001b[0m \u001b[0mlen\u001b[0m\u001b[0;34m(\u001b[0m\u001b[0mletters\u001b[0m\u001b[0;34m)\u001b[0m\u001b[0;34m)\u001b[0m\u001b[0;34m:\u001b[0m\u001b[0;34m\u001b[0m\u001b[0;34m\u001b[0m\u001b[0m\n\u001b[1;32m      4\u001b[0m         \u001b[0;32mif\u001b[0m \u001b[0mword_has_only_letters\u001b[0m\u001b[0;34m(\u001b[0m\u001b[0mword\u001b[0m\u001b[0;34m,\u001b[0m \u001b[0mletters\u001b[0m\u001b[0;34m)\u001b[0m\u001b[0;34m:\u001b[0m\u001b[0;34m\u001b[0m\u001b[0;34m\u001b[0m\u001b[0m\n\u001b[1;32m      5\u001b[0m             \u001b[0mpossible_words\u001b[0m\u001b[0;34m.\u001b[0m\u001b[0mappend\u001b[0m\u001b[0;34m(\u001b[0m\u001b[0mword\u001b[0m\u001b[0;34m)\u001b[0m\u001b[0;34m\u001b[0m\u001b[0;34m\u001b[0m\u001b[0m\n",
      "\u001b[0;31mNameError\u001b[0m: name 'corpus' is not defined"
     ]
    }
   ],
   "source": [
    "possible_words = []\n",
    "for word in corpus:\n",
    "    if (len(word) > 3) and (len(word) <= len(letters)):\n",
    "        if word_has_only_letters(word, letters):\n",
    "            possible_words.append(word)\n",
    "                "
   ]
  },
  {
   "cell_type": "code",
   "execution_count": 20,
   "metadata": {},
   "outputs": [
    {
     "data": {
      "text/plain": [
       "['cees',\n",
       " 'cess',\n",
       " 'cesses',\n",
       " 'check',\n",
       " 'checke',\n",
       " 'checks',\n",
       " 'chee',\n",
       " 'cheek',\n",
       " 'cheeks',\n",
       " 'cheese',\n",
       " 'cheke',\n",
       " 'chese',\n",
       " 'chess',\n",
       " 'csch',\n",
       " 'ecce',\n",
       " 'ecch',\n",
       " 'eche',\n",
       " 'eches',\n",
       " 'ekes',\n",
       " 'eses',\n",
       " 'esse',\n",
       " 'essee',\n",
       " 'esses',\n",
       " 'hech',\n",
       " 'heck',\n",
       " 'hecks',\n",
       " 'hehe',\n",
       " 'keck',\n",
       " 'kecks',\n",
       " 'keech',\n",
       " 'keek',\n",
       " 'keeks',\n",
       " 'kees',\n",
       " 'kesse',\n",
       " 'secesh',\n",
       " 'secess',\n",
       " 'sech',\n",
       " 'seck',\n",
       " 'secs',\n",
       " 'seech',\n",
       " 'seek',\n",
       " 'seeks',\n",
       " 'sees',\n",
       " 'seesee',\n",
       " 'sess',\n",
       " 'shee',\n",
       " 'shes',\n",
       " 'skee',\n",
       " 'skeech',\n",
       " 'skees']"
      ]
     },
     "execution_count": 20,
     "metadata": {},
     "output_type": "execute_result"
    }
   ],
   "source": [
    "possible_words"
   ]
  },
  {
   "cell_type": "code",
   "execution_count": 5,
   "metadata": {},
   "outputs": [],
   "source": [
    "import requests\n",
    "from bs4 import BeautifulSoup\n",
    "import time"
   ]
  },
  {
   "cell_type": "code",
   "execution_count": 19,
   "metadata": {},
   "outputs": [],
   "source": [
    "response = requests.get('https://www.wordscapescheat.com/answers/sunrise/rise/1')"
   ]
  },
  {
   "cell_type": "code",
   "execution_count": 20,
   "metadata": {},
   "outputs": [],
   "source": [
    "soup = BeautifulSoup(response.text, 'html.parser')"
   ]
  },
  {
   "cell_type": "code",
   "execution_count": 39,
   "metadata": {},
   "outputs": [],
   "source": [
    "def parse_html_for_board(soup):\n",
    "    result = None\n",
    "    for row in soup.find_all('li'):\n",
    "        if result is not None:\n",
    "            result.append(row['aria-label'])\n",
    "        else:\n",
    "            result = [row['aria-label']]\n",
    "    return result"
   ]
  },
  {
   "cell_type": "code",
   "execution_count": 40,
   "metadata": {},
   "outputs": [
    {
     "data": {
      "text/plain": [
       "['CAT', 'ACT']"
      ]
     },
     "execution_count": 40,
     "metadata": {},
     "output_type": "execute_result"
    }
   ],
   "source": [
    "parse_html_for_board(soup)"
   ]
  },
  {
   "cell_type": "code",
   "execution_count": 47,
   "metadata": {},
   "outputs": [
    {
     "name": "stdout",
     "output_type": "stream",
     "text": [
      "Accessing Page: 5970\n",
      "Accessing Page: 5980\n",
      "Accessing Page: 5990\n",
      "Accessing Page: 6000\n"
     ]
    }
   ],
   "source": [
    "#answers = {}\n",
    "base_url = 'https://www.wordscapescheat.com/'\n",
    "next_url = 'answers/sunrise/rise/1'\n",
    "for page in range(1,6001):\n",
    "    if page % 10 == 0:\n",
    "        print('Accessing Page:', page)\n",
    "    response = requests.get(base_url + next_url)\n",
    "    time.sleep(0.25)\n",
    "    soup = BeautifulSoup(response.text, 'html.parser')\n",
    "    answers[page] = parse_html_for_board(soup)\n",
    "    next_url = soup.find_all('nav')[0].find_all('a')[-1]['href']"
   ]
  },
  {
   "cell_type": "code",
   "execution_count": 48,
   "metadata": {},
   "outputs": [
    {
     "data": {
      "text/plain": [
       "6000"
      ]
     },
     "execution_count": 48,
     "metadata": {},
     "output_type": "execute_result"
    }
   ],
   "source": [
    "len(answers)"
   ]
  },
  {
   "cell_type": "code",
   "execution_count": 53,
   "metadata": {},
   "outputs": [
    {
     "data": {
      "text/plain": [
       "['DAY', 'LAD', 'LAY', 'LADY']"
      ]
     },
     "execution_count": 53,
     "metadata": {},
     "output_type": "execute_result"
    }
   ],
   "source": [
    "answers[10]"
   ]
  },
  {
   "cell_type": "code",
   "execution_count": 55,
   "metadata": {},
   "outputs": [],
   "source": [
    "def clean(answers):\n",
    "    result = []\n",
    "    for k in answers.keys():\n",
    "        result += answers[k]\n",
    "    return result"
   ]
  },
  {
   "cell_type": "code",
   "execution_count": 56,
   "metadata": {},
   "outputs": [],
   "source": [
    "final_word_list = clean(answers)"
   ]
  },
  {
   "cell_type": "code",
   "execution_count": 57,
   "metadata": {},
   "outputs": [
    {
     "data": {
      "text/plain": [
       "70652"
      ]
     },
     "execution_count": 57,
     "metadata": {},
     "output_type": "execute_result"
    }
   ],
   "source": [
    "len(final_word_list)"
   ]
  },
  {
   "cell_type": "code",
   "execution_count": 58,
   "metadata": {},
   "outputs": [
    {
     "data": {
      "text/plain": [
       "8247"
      ]
     },
     "execution_count": 58,
     "metadata": {},
     "output_type": "execute_result"
    }
   ],
   "source": [
    "len(list(set(final_word_list)))"
   ]
  },
  {
   "cell_type": "code",
   "execution_count": 59,
   "metadata": {},
   "outputs": [],
   "source": [
    "unique_final_word_list = list(set(final_word_list))"
   ]
  },
  {
   "cell_type": "code",
   "execution_count": 60,
   "metadata": {},
   "outputs": [],
   "source": [
    "import pandas as pd"
   ]
  },
  {
   "cell_type": "code",
   "execution_count": 61,
   "metadata": {},
   "outputs": [],
   "source": [
    "df = pd.DataFrame({\"sorted_words\":sorted(unique_final_word_list)})"
   ]
  },
  {
   "cell_type": "code",
   "execution_count": 62,
   "metadata": {},
   "outputs": [],
   "source": [
    "df.to_csv('wordscapes_word_list.csv', index=False)"
   ]
  },
  {
   "cell_type": "markdown",
   "metadata": {},
   "source": [
    "___"
   ]
  },
  {
   "cell_type": "markdown",
   "metadata": {},
   "source": [
    "# Board Builder"
   ]
  },
  {
   "cell_type": "code",
   "execution_count": 29,
   "metadata": {},
   "outputs": [],
   "source": [
    "df = pd.read_csv('wordscapes_word_list.csv', keep_default_na=False)"
   ]
  },
  {
   "cell_type": "code",
   "execution_count": 30,
   "metadata": {},
   "outputs": [],
   "source": [
    "def get_letter_frequencies(letters):\n",
    "    freqs = {}\n",
    "    for letter in letters:\n",
    "        if letter in freqs.keys():\n",
    "            freqs[letter] += 1\n",
    "        else:\n",
    "            freqs[letter] = 1\n",
    "    return freqs\n",
    "        "
   ]
  },
  {
   "cell_type": "code",
   "execution_count": 31,
   "metadata": {},
   "outputs": [],
   "source": [
    "def is_word_subset_of_letters(word:dict, letters:dict):\n",
    "    match = True\n",
    "    for key in word.keys():\n",
    "        if key in letters.keys():\n",
    "            if letters[key] < word[key]:\n",
    "                match = False\n",
    "        else:\n",
    "            match = False\n",
    "    return match"
   ]
  },
  {
   "cell_type": "code",
   "execution_count": 32,
   "metadata": {},
   "outputs": [],
   "source": [
    "def possible_words(letters, word_list):\n",
    "    words = []\n",
    "    for word in word_list:\n",
    "        if len(letters) >= len(word):\n",
    "            match = is_word_subset_of_letters(get_letter_frequencies(word), get_letter_frequencies(letters))\n",
    "            if match:\n",
    "                words.append(word)\n",
    "    return words"
   ]
  },
  {
   "cell_type": "code",
   "execution_count": 33,
   "metadata": {},
   "outputs": [
    {
     "data": {
      "text/plain": [
       "['ACT',\n",
       " 'ACTS',\n",
       " 'CACTI',\n",
       " 'CACTUS',\n",
       " 'CAST',\n",
       " 'CAT',\n",
       " 'CATS',\n",
       " 'CAUSTIC',\n",
       " 'CUT',\n",
       " 'CUTS',\n",
       " 'ITS',\n",
       " 'SAC',\n",
       " 'SAT',\n",
       " 'SIT',\n",
       " 'SUIT',\n",
       " 'TAU',\n",
       " 'TIC',\n",
       " 'TICS',\n",
       " 'TIS']"
      ]
     },
     "execution_count": 33,
     "metadata": {},
     "output_type": "execute_result"
    }
   ],
   "source": [
    "sorted(possible_words('CAUSTIC', list(df.sorted_words)))"
   ]
  },
  {
   "cell_type": "markdown",
   "metadata": {},
   "source": [
    "## Psudo code for board builder\n",
    "1) Pick random first word  \n",
    "2) Identify available \"Linking Letters\"  \n",
    "3) Pick random available linking letter and find any word that contains that letter  \n",
    "4) Place new word on board  \n",
    "5) repeat steps 2-4 until no more linking letters exist or no more words exist  "
   ]
  },
  {
   "cell_type": "code",
   "execution_count": 50,
   "metadata": {},
   "outputs": [],
   "source": [
    "def board_builder(word_list):\n",
    "    # Initialize variables\n",
    "    placed_words = {}\n",
    "    # Place first word on board\n",
    "    placed_words[0] = {word_list[0]:[]}\n",
    "    # Id available Linking Letters\n",
    "    \n",
    "    \n",
    "    return placed_words"
   ]
  },
  {
   "cell_type": "code",
   "execution_count": 51,
   "metadata": {},
   "outputs": [
    {
     "data": {
      "text/plain": [
       "{0: {'ACT': []},\n",
       " 1: {'ACTS': []},\n",
       " 2: {'CACTI': []},\n",
       " 3: {'CACTUS': []},\n",
       " 4: {'CAST': []},\n",
       " 5: {'CAT': []},\n",
       " 6: {'CATS': []},\n",
       " 7: {'CAUSTIC': []},\n",
       " 8: {'CUT': []},\n",
       " 9: {'CUTS': []},\n",
       " 10: {'ITS': []},\n",
       " 11: {'SAC': []},\n",
       " 12: {'SAT': []},\n",
       " 13: {'SIT': []},\n",
       " 14: {'SUIT': []},\n",
       " 15: {'TAU': []},\n",
       " 16: {'TIC': []},\n",
       " 17: {'TICS': []},\n",
       " 18: {'TIS': []}}"
      ]
     },
     "execution_count": 51,
     "metadata": {},
     "output_type": "execute_result"
    }
   ],
   "source": [
    "board_builder(possible_words('CAUSTIC', list(df.sorted_words)))"
   ]
  },
  {
   "cell_type": "code",
   "execution_count": 142,
   "metadata": {},
   "outputs": [
    {
     "data": {
      "text/plain": [
       "['ACT',\n",
       " 'ACTS',\n",
       " 'CACTI',\n",
       " 'CACTUS',\n",
       " 'CAST',\n",
       " 'CAT',\n",
       " 'CATS',\n",
       " 'CAUSTIC',\n",
       " 'CUT',\n",
       " 'CUTS',\n",
       " 'ITS',\n",
       " 'SAC',\n",
       " 'SAT',\n",
       " 'SIT',\n",
       " 'SUIT',\n",
       " 'TAU',\n",
       " 'TIC',\n",
       " 'TICS',\n",
       " 'TIS']"
      ]
     },
     "execution_count": 142,
     "metadata": {},
     "output_type": "execute_result"
    }
   ],
   "source": [
    "possible_words('CAUSTIC', list(df.sorted_words))"
   ]
  },
  {
   "cell_type": "code",
   "execution_count": 36,
   "metadata": {},
   "outputs": [],
   "source": [
    "import numpy as np"
   ]
  },
  {
   "cell_type": "code",
   "execution_count": 42,
   "metadata": {},
   "outputs": [],
   "source": [
    "board = np.full((12,12),'-')"
   ]
  },
  {
   "cell_type": "code",
   "execution_count": 43,
   "metadata": {},
   "outputs": [
    {
     "data": {
      "text/plain": [
       "array([['-', 'W', '-', '-', '-', '-', '-', '-', '-', '-', '-', '-'],\n",
       "       ['-', '-', '-', '-', '-', '-', '-', '-', '-', '-', '-', '-'],\n",
       "       ['-', '-', '-', '-', '-', '-', '-', '-', '-', '-', '-', '-'],\n",
       "       ['-', '-', '-', '-', '-', '-', '-', '-', '-', '-', '-', '-'],\n",
       "       ['-', '-', '-', '-', '-', '-', '-', '-', '-', '-', '-', '-'],\n",
       "       ['-', '-', '-', '-', '-', '-', '-', '-', '-', '-', '-', '-'],\n",
       "       ['-', '-', '-', '-', '-', '-', '-', '-', '-', '-', '-', '-'],\n",
       "       ['-', '-', '-', '-', '-', '-', '-', '-', '-', '-', '-', '-'],\n",
       "       ['-', '-', '-', '-', '-', '-', '-', '-', '-', '-', '-', '-'],\n",
       "       ['-', '-', '-', '-', '-', '-', '-', '-', '-', '-', '-', '-'],\n",
       "       ['-', '-', '-', '-', '-', '-', '-', '-', '-', '-', '-', '-'],\n",
       "       ['-', '-', '-', '-', '-', '-', '-', '-', '-', '-', '-', '-']],\n",
       "      dtype='<U1')"
      ]
     },
     "execution_count": 43,
     "metadata": {},
     "output_type": "execute_result"
    }
   ],
   "source": [
    "board[0,1] = 'W'\n",
    "board"
   ]
  },
  {
   "cell_type": "code",
   "execution_count": 145,
   "metadata": {},
   "outputs": [],
   "source": [
    "class Board():\n",
    "    def __init__(self, size, words=None):\n",
    "        self.size = size\n",
    "        self.placeholder = '-'\n",
    "        self.grid = np.full((self.size,self.size),self.placeholder)\n",
    "        if words:\n",
    "            self.words=words\n",
    "        else:\n",
    "            self.words = {}\n",
    "    \n",
    "    def add_word(self, word):\n",
    "        location = (0,0)\n",
    "        direction = 0 #0->horizontal|1->vertical\n",
    "        if len(self.words) > 0:\n",
    "            pass #find location for next word\n",
    "        self.words[word] = (location,direction)\n",
    "    \n",
    "    def get_words(self):\n",
    "        return words\n",
    "    \n",
    "    def set_words(self, words):\n",
    "        #TODO Validity Checks\n",
    "        self.words = words\n",
    "    \n",
    "    def get_grid(self):\n",
    "        return self.grid\n",
    "    \n",
    "    def set_grid(self, grid):\n",
    "        #TODO Validity Checks\n",
    "        self.grid = grid\n",
    "        self.size = len(self.grid[0,:])\n",
    "    \n",
    "    def grid_validity_check(self):\n",
    "        #Rows\n",
    "        words = []\n",
    "        for i in range(0,self.size):\n",
    "            row = ''.join(self.grid[i,:]).split(self.placeholder)\n",
    "            row_words = [x for x in row if len(x) > 1]\n",
    "            words += row_words \n",
    "        #Columns\n",
    "        for j in range(0,self.size):\n",
    "            col = ''.join(self.grid[:,j]).split(self.placeholder)\n",
    "            col_words = [x for x in col if len(x) > 1]\n",
    "            words += col_words\n",
    "        #Combine and Check\n",
    "        \n",
    "        return words\n",
    "    \n",
    "        "
   ]
  },
  {
   "cell_type": "code",
   "execution_count": 146,
   "metadata": {},
   "outputs": [],
   "source": [
    "words = possible_words('CAUSTIC', list(df.sorted_words))"
   ]
  },
  {
   "cell_type": "code",
   "execution_count": 148,
   "metadata": {},
   "outputs": [],
   "source": [
    "board = Board(12,words)"
   ]
  },
  {
   "cell_type": "code",
   "execution_count": 139,
   "metadata": {},
   "outputs": [
    {
     "data": {
      "text/plain": [
       "array([['H', 'O', 'M', 'E', '-', '-', '-', '-', '-', '-', '-', '-'],\n",
       "       ['-', '-', 'E', '-', '-', '-', '-', '-', '-', '-', '-', '-'],\n",
       "       ['-', '-', 'E', '-', '-', '-', '-', '-', '-', '-', '-', '-'],\n",
       "       ['-', '-', 'T', '-', '-', '-', '-', '-', '-', '-', '-', '-'],\n",
       "       ['-', '-', '-', '-', '-', '-', '-', '-', '-', '-', '-', '-'],\n",
       "       ['-', '-', '-', '-', '-', '-', '-', '-', '-', '-', '-', '-'],\n",
       "       ['-', '-', '-', '-', '-', '-', '-', '-', '-', '-', '-', '-'],\n",
       "       ['-', '-', '-', '-', '-', '-', '-', '-', '-', '-', '-', '-'],\n",
       "       ['-', '-', '-', '-', '-', '-', '-', '-', '-', '-', '-', '-'],\n",
       "       ['-', '-', '-', '-', '-', '-', '-', '-', '-', '-', '-', '-'],\n",
       "       ['-', '-', '-', '-', '-', '-', '-', '-', '-', '-', '-', '-'],\n",
       "       ['-', '-', '-', '-', '-', '-', '-', '-', '-', '-', '-', '-']],\n",
       "      dtype='<U1')"
      ]
     },
     "execution_count": 139,
     "metadata": {},
     "output_type": "execute_result"
    }
   ],
   "source": [
    "del b\n",
    "b = Board(12,{})\n",
    "grid = b.get_grid()\n",
    "grid[0,0] = 'H'\n",
    "grid[0,1] = 'O'\n",
    "grid[0,2] = 'M'\n",
    "grid[0,3] = 'E'\n",
    "grid[1,2] = 'E'\n",
    "grid[2,2] = 'E'\n",
    "grid[3,2] = 'T'\n",
    "b.set_grid(grid)\n",
    "b.get_grid()"
   ]
  },
  {
   "cell_type": "code",
   "execution_count": 140,
   "metadata": {},
   "outputs": [
    {
     "name": "stdout",
     "output_type": "stream",
     "text": [
      "i0 ['HOME']\n",
      "i1 []\n",
      "i2 []\n",
      "i3 []\n",
      "i4 []\n",
      "i5 []\n",
      "i6 []\n",
      "i7 []\n",
      "i8 []\n",
      "i9 []\n",
      "i10 []\n",
      "i11 []\n",
      "j0 []\n",
      "j1 []\n",
      "j2 ['MEET']\n",
      "j3 []\n",
      "j4 []\n",
      "j5 []\n",
      "j6 []\n",
      "j7 []\n",
      "j8 []\n",
      "j9 []\n",
      "j10 []\n",
      "j11 []\n"
     ]
    },
    {
     "data": {
      "text/plain": [
       "['HOME', 'MEET']"
      ]
     },
     "execution_count": 140,
     "metadata": {},
     "output_type": "execute_result"
    }
   ],
   "source": [
    "b.grid_validity_check()"
   ]
  },
  {
   "cell_type": "code",
   "execution_count": 141,
   "metadata": {},
   "outputs": [
    {
     "data": {
      "text/plain": [
       "['ab', '', 'cd']"
      ]
     },
     "execution_count": 141,
     "metadata": {},
     "output_type": "execute_result"
    }
   ],
   "source": [
    "''.join(['a','b','-','-','c','d']).split('-')"
   ]
  },
  {
   "cell_type": "code",
   "execution_count": null,
   "metadata": {},
   "outputs": [],
   "source": []
  }
 ],
 "metadata": {
  "kernelspec": {
   "display_name": "Python 3",
   "language": "python",
   "name": "python3"
  },
  "language_info": {
   "codemirror_mode": {
    "name": "ipython",
    "version": 3
   },
   "file_extension": ".py",
   "mimetype": "text/x-python",
   "name": "python",
   "nbconvert_exporter": "python",
   "pygments_lexer": "ipython3",
   "version": "3.7.4"
  }
 },
 "nbformat": 4,
 "nbformat_minor": 4
}
