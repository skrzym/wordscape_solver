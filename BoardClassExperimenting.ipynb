{
 "cells": [
  {
   "cell_type": "code",
   "execution_count": 96,
   "metadata": {},
   "outputs": [],
   "source": [
    "import numpy as np"
   ]
  },
  {
   "cell_type": "code",
   "execution_count": 159,
   "metadata": {},
   "outputs": [],
   "source": [
    "class Board():\n",
    "    def __init__(self, size, words=None):\n",
    "        self.size = size\n",
    "        self.placeholder = '-'\n",
    "        self.grid = np.full((self.size,self.size),self.placeholder)\n",
    "        if words:\n",
    "            self.words = words\n",
    "        else:\n",
    "            self.words = ['INEEDWORDS']\n",
    "        self.grid_emtpy = True\n",
    "    \n",
    "    def add_word(self, word='debug', start=(0,0), direction=0):\n",
    "        word_length = len(word)\n",
    "        #direction = 0 #0->horizontal|1->vertical\n",
    "        #self.words[word] = (location,direction)\n",
    "        r=start[0]\n",
    "        c=start[1]\n",
    "        for i in range(word_length):\n",
    "            self.grid[r,c] = word[i]\n",
    "            if direction == 0:\n",
    "                c += 1\n",
    "            else:\n",
    "                r += 1\n",
    "        return None\n",
    "    \n",
    "    def get_words(self):\n",
    "        return words\n",
    "    \n",
    "    def set_words(self, words):\n",
    "        #TODO Validity Checks\n",
    "        self.words = words\n",
    "    \n",
    "    def get_grid(self):\n",
    "        return self.grid\n",
    "    \n",
    "    def set_grid(self, grid):\n",
    "        #TODO Validity Checks\n",
    "        self.grid = grid\n",
    "        self.size = len(self.grid[0,:])\n",
    "    \n",
    "    def build_new_grid(self):\n",
    "        used_words = []\n",
    "        w = words.pop()\n",
    "        used_words.append(w)\n",
    "        if self.grid_empty:\n",
    "            w\n",
    "    \n",
    "    def update_valid_grid_placements(self):\n",
    "        for i in range(self.size):\n",
    "            for j in range(self.size):\n",
    "                if self.grid[i,j] is not self.placeholder:\n",
    "                    if (i - 1 < 0):\n",
    "                        pass\n",
    "    \n",
    "    def get_surrounding_cell_details(self, r, c, pretty=False):\n",
    "        # 012\n",
    "        # 345\n",
    "        # 678\n",
    "        \n",
    "        def placeholder_check(r, c):\n",
    "            if self.grid[r,c] == self.placeholder:\n",
    "                return 0\n",
    "            else:\n",
    "                return 1\n",
    "        \n",
    "        def pretty_result(result):\n",
    "            string = ''\n",
    "            index = 0\n",
    "            for _ in range(3):\n",
    "                for _ in range(3):\n",
    "                    string += str(result[index])\n",
    "                    index += 1\n",
    "                string += '\\n'\n",
    "            return string\n",
    "\n",
    "        result = {0:1,\n",
    "                 1:1,\n",
    "                 2:1,\n",
    "                 3:1,\n",
    "                 4:1,\n",
    "                 5:1,\n",
    "                 6:1,\n",
    "                 7:1,\n",
    "                 8:1}\n",
    "        if (r > 0) & (c > 0):\n",
    "            result[0] = placeholder_check(r-1,c-1)\n",
    "        if (r > 0):\n",
    "            result[1] = placeholder_check(r-1,c)\n",
    "        if  (r > 0) & (c < self.size - 1):\n",
    "            result[2] = placeholder_check(r-1,c+1)\n",
    "        if (c > 0):\n",
    "            result[3] = placeholder_check(r,c-1)\n",
    "        result[4] = placeholder_check(r,c)\n",
    "        if (c < self.size - 1):\n",
    "            result[5] = placeholder_check(r,c+1)\n",
    "        if (r < self.size - 1) & (c > 0):\n",
    "            result[6] = placeholder_check(r+1,c-1)\n",
    "        if (r < self.size - 1):\n",
    "            result[7] = placeholder_check(r+1,c)\n",
    "        if (r < self.size - 1) & (c < self.size - 1):\n",
    "            result[8] = placeholder_check(r+1,c+1)\n",
    "        \n",
    "        if pretty:\n",
    "            print(pretty_result(result))\n",
    "            \n",
    "        return result           \n",
    "    \n",
    "    def grid_validity_check(self):\n",
    "        #Rows\n",
    "        words = []\n",
    "        for i in range(0,self.size):\n",
    "            row = ''.join(self.grid[i,:]).split(self.placeholder)\n",
    "            row_words = [x for x in row if len(x) > 1]\n",
    "            words += row_words \n",
    "        #Columns\n",
    "        for j in range(0,self.size):\n",
    "            col = ''.join(self.grid[:,j]).split(self.placeholder)\n",
    "            col_words = [x for x in col if len(x) > 1]\n",
    "            words += col_words\n",
    "        #Combine and Check\n",
    "        \n",
    "        return words"
   ]
  },
  {
   "cell_type": "code",
   "execution_count": 160,
   "metadata": {},
   "outputs": [],
   "source": [
    "b = Board(12)"
   ]
  },
  {
   "cell_type": "code",
   "execution_count": 161,
   "metadata": {},
   "outputs": [
    {
     "data": {
      "text/plain": [
       "array([['-', '-', '-', '-', '-', '-', '-', '-', '-', '-', '-', '-'],\n",
       "       ['-', '-', '-', '-', '-', '-', '-', '-', '-', '-', '-', '-'],\n",
       "       ['-', '-', '-', '-', '-', '-', '-', '-', '-', '-', '-', '-'],\n",
       "       ['-', '-', '-', '-', '-', '-', '-', '-', '-', '-', '-', '-'],\n",
       "       ['-', '-', '-', '-', '-', '-', '-', '-', '-', '-', '-', '-'],\n",
       "       ['-', '-', '-', '-', '-', '-', '-', '-', '-', '-', '-', '-'],\n",
       "       ['-', '-', '-', '-', '-', '-', '-', '-', '-', '-', '-', '-'],\n",
       "       ['-', '-', '-', '-', '-', '-', '-', '-', '-', '-', '-', '-'],\n",
       "       ['-', '-', '-', '-', '-', '-', '-', '-', '-', '-', '-', '-'],\n",
       "       ['-', '-', '-', '-', '-', '-', '-', '-', '-', '-', '-', '-'],\n",
       "       ['-', '-', '-', '-', '-', '-', '-', '-', '-', '-', '-', '-'],\n",
       "       ['-', '-', '-', '-', '-', '-', '-', '-', '-', '-', '-', '-']],\n",
       "      dtype='<U1')"
      ]
     },
     "execution_count": 161,
     "metadata": {},
     "output_type": "execute_result"
    }
   ],
   "source": [
    "b.get_grid()"
   ]
  },
  {
   "cell_type": "code",
   "execution_count": 162,
   "metadata": {},
   "outputs": [
    {
     "data": {
      "text/plain": [
       "[]"
      ]
     },
     "execution_count": 162,
     "metadata": {},
     "output_type": "execute_result"
    }
   ],
   "source": [
    "b.grid_validity_check()"
   ]
  },
  {
   "cell_type": "code",
   "execution_count": 163,
   "metadata": {},
   "outputs": [
    {
     "name": "stdout",
     "output_type": "stream",
     "text": [
      "111\n",
      "000\n",
      "000\n",
      "\n"
     ]
    }
   ],
   "source": [
    "d = b.get_surrounding_cell_details(0,3,True)"
   ]
  },
  {
   "cell_type": "code",
   "execution_count": 164,
   "metadata": {},
   "outputs": [],
   "source": [
    "b.add_word('hey',(0,0),1)"
   ]
  },
  {
   "cell_type": "code",
   "execution_count": 165,
   "metadata": {},
   "outputs": [
    {
     "data": {
      "text/plain": [
       "array([['h', '-', '-', '-', '-', '-', '-', '-', '-', '-', '-', '-'],\n",
       "       ['e', '-', '-', '-', '-', '-', '-', '-', '-', '-', '-', '-'],\n",
       "       ['y', '-', '-', '-', '-', '-', '-', '-', '-', '-', '-', '-'],\n",
       "       ['-', '-', '-', '-', '-', '-', '-', '-', '-', '-', '-', '-'],\n",
       "       ['-', '-', '-', '-', '-', '-', '-', '-', '-', '-', '-', '-'],\n",
       "       ['-', '-', '-', '-', '-', '-', '-', '-', '-', '-', '-', '-'],\n",
       "       ['-', '-', '-', '-', '-', '-', '-', '-', '-', '-', '-', '-'],\n",
       "       ['-', '-', '-', '-', '-', '-', '-', '-', '-', '-', '-', '-'],\n",
       "       ['-', '-', '-', '-', '-', '-', '-', '-', '-', '-', '-', '-'],\n",
       "       ['-', '-', '-', '-', '-', '-', '-', '-', '-', '-', '-', '-'],\n",
       "       ['-', '-', '-', '-', '-', '-', '-', '-', '-', '-', '-', '-'],\n",
       "       ['-', '-', '-', '-', '-', '-', '-', '-', '-', '-', '-', '-']],\n",
       "      dtype='<U1')"
      ]
     },
     "execution_count": 165,
     "metadata": {},
     "output_type": "execute_result"
    }
   ],
   "source": [
    "b.get_grid()"
   ]
  },
  {
   "cell_type": "code",
   "execution_count": null,
   "metadata": {},
   "outputs": [],
   "source": []
  }
 ],
 "metadata": {
  "kernelspec": {
   "display_name": "Python 3",
   "language": "python",
   "name": "python3"
  },
  "language_info": {
   "codemirror_mode": {
    "name": "ipython",
    "version": 3
   },
   "file_extension": ".py",
   "mimetype": "text/x-python",
   "name": "python",
   "nbconvert_exporter": "python",
   "pygments_lexer": "ipython3",
   "version": "3.7.4"
  }
 },
 "nbformat": 4,
 "nbformat_minor": 4
}
